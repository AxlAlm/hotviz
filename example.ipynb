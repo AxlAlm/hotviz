{
 "cells": [
  {
   "cell_type": "code",
   "execution_count": 1,
   "metadata": {},
   "outputs": [],
   "source": [
    "from hotviz import hot_tree\n",
    "import plotly.io as pio\n",
    "pio.renderers.default = \"notebook\""
   ]
  },
  {
   "cell_type": "code",
   "execution_count": 2,
   "metadata": {},
   "outputs": [],
   "source": [
    "nodes = [\"nodeA\", \"nodeB\", \"nodeB\", \"nodeB\", \"nodeA\", \"nodeA\", \"nodeB\",\"nodeB\", \"nodeC\",\"nodeC\", \"nodeD\", \"nodeA\", \"nodeD\"]\n",
    "links = [0, 1, 1, 0, 0, 0, 3, 5, 3, 3, 0,3, 7]\n",
    "texts = [\n",
    "            \"this is nodeA\", \n",
    "            \"this is nodeB\",\n",
    "            \"this is nodeB\", \n",
    "            \"this is nodeB\", \n",
    "            \"this is nodeA\", \n",
    "            \"this is nodeA\",\n",
    "            \"this is nodeB\",\n",
    "            \"this is nodeB\",\n",
    "            \"this is nodeC\",\n",
    "            \"this is nodeC\",\n",
    "            \"this is nodeD\",\n",
    "            \"this is nodeA\",\n",
    "            \"this is nodeA\",\n",
    "        ]\n",
    "link_labels = [\n",
    "                \"\", \n",
    "                \"\",\n",
    "                \"AGAINST\", \n",
    "                \"FOR\", \n",
    "                \"AGAINST\", \n",
    "                \"AGAINST\",\n",
    "                \"FOR\",\n",
    "                \"AGAINST\",\n",
    "                \"FOR\",\n",
    "                \"FOR\",\n",
    "                \"AGAINST\",\n",
    "                \"FOR\",\n",
    "                \"FOR\",\n",
    "                ]\n",
    "\n",
    "gold = {\n",
    "        \"nodes\":nodes,\n",
    "        \"links\": links,\n",
    "        \"texts\": texts,\n",
    "        \"link_labels\":link_labels    \n",
    "    }\n"
   ]
  },
  {
   "cell_type": "code",
   "execution_count": 3,
   "metadata": {},
   "outputs": [],
   "source": [
    "\n",
    "nodes = [\n",
    "        \"MajorClaim\",\n",
    "        \"MajorClaim\",\n",
    "        \"Claim\",\n",
    "        \"Claim\",\n",
    "        \"Claim\",\n",
    "        \"Premise\",\n",
    "        \"Premise\",\n",
    "        \"Premise\",\n",
    "        \"Premise\",\n",
    "        \"Premise\",\n",
    "        \"Premise\",\n",
    "        \"Claim\"\n",
    "\n",
    "        ]\n",
    "texts = [\n",
    "        \"one who studies overseas will gain many skills throughout this experience\",\n",
    "        \"living and studying overseas gives the individual a new perspective on the subject that is studied or in general life\",\n",
    "        \"studying at an overseas university gives individuals the opportunity to improve social skills by interacting and communicating with students from different origins and cultures\",\n",
    "        \"living and studying overseas is an irreplaceable experience when it comes to learn standing on your own feet\",\n",
    "        \"one who has studied and lived overseas will become more eligible for the job than his/her peers\",\n",
    "        \"Compared to the peers studying in the home country, it will be more likely for the one who is living overseas to be successful in adapting himself/herself into new environments and situations in life\",\n",
    "        \"One who is living overseas will of course struggle with loneliness, living away from family and friends\",\n",
    "        \"those difficulties will turn into valuable experiences in the following steps of life\",\n",
    "        \"the one will learn living without depending on anyone else\",\n",
    "        \"employers are mostly looking for people who have international and language skills\",\n",
    "        \"Becoming successful in this study will give the student an edge in job market\",\n",
    "        \"there are many difficulties a student might face when studying and living overseas\"\n",
    "        ]\n",
    "\n",
    "link_labels = [\n",
    "                \"\",\n",
    "                \"\",\n",
    "                \"For\",\n",
    "                \"For\",\n",
    "                \"For\",\n",
    "                \"Supports\",\n",
    "                \"Attacks\",\n",
    "                \"Attacks\",\n",
    "                \"Supports\",\n",
    "                \"Supports\",\n",
    "                \"Supports\",\n",
    "                \"Against\"\n",
    "                ]\n",
    "links = [0,0,1,1,1,2,3,6,3,4,4,1]\n",
    "\n",
    "gold = {\n",
    "        \"nodes\":nodes,\n",
    "        \"links\": links,\n",
    "        \"texts\": texts,\n",
    "        \"link_labels\":link_labels    \n",
    "    }\n"
   ]
  },
  {
   "cell_type": "code",
   "execution_count": 4,
   "metadata": {
    "scrolled": true
   },
   "outputs": [
    {
     "ename": "KeyboardInterrupt",
     "evalue": "",
     "output_type": "error",
     "traceback": [
      "\u001b[0;31m---------------------------------------------------------------------------\u001b[0m",
      "\u001b[0;31mKeyboardInterrupt\u001b[0m                         Traceback (most recent call last)",
      "\u001b[0;32m<ipython-input-4-a987ac177c3f>\u001b[0m in \u001b[0;36m<module>\u001b[0;34m\u001b[0m\n\u001b[0;32m----> 1\u001b[0;31m \u001b[0mhot_tree\u001b[0m\u001b[0;34m(\u001b[0m\u001b[0mgold\u001b[0m\u001b[0;34m,\u001b[0m \u001b[0mcolors\u001b[0m\u001b[0;34m=\u001b[0m\u001b[0;34m\"Plotly\"\u001b[0m\u001b[0;34m)\u001b[0m\u001b[0;34m\u001b[0m\u001b[0;34m\u001b[0m\u001b[0m\n\u001b[0m",
      "\u001b[0;32m~/phd/hotviz/hotviz/hot_tree.py\u001b[0m in \u001b[0;36mhot_tree\u001b[0;34m(gold, pred, colors, reverse)\u001b[0m\n\u001b[1;32m    305\u001b[0m                     \u001b[0mdata\u001b[0m\u001b[0;34m=\u001b[0m\u001b[0mgold\u001b[0m\u001b[0;34m,\u001b[0m\u001b[0;34m\u001b[0m\u001b[0;34m\u001b[0m\u001b[0m\n\u001b[1;32m    306\u001b[0m                     \u001b[0mcolors\u001b[0m\u001b[0;34m=\u001b[0m\u001b[0mcolors\u001b[0m\u001b[0;34m,\u001b[0m\u001b[0;34m\u001b[0m\u001b[0;34m\u001b[0m\u001b[0m\n\u001b[0;32m--> 307\u001b[0;31m                     \u001b[0mreverse\u001b[0m\u001b[0;34m=\u001b[0m\u001b[0mreverse\u001b[0m\u001b[0;34m,\u001b[0m\u001b[0;34m\u001b[0m\u001b[0;34m\u001b[0m\u001b[0m\n\u001b[0m\u001b[1;32m    308\u001b[0m                     )\n\u001b[1;32m    309\u001b[0m \u001b[0;34m\u001b[0m\u001b[0m\n",
      "\u001b[0;32m~/phd/hotviz/hotviz/hot_tree.py\u001b[0m in \u001b[0;36mcreate_tree_plot\u001b[0;34m(fig, data, colors, reverse)\u001b[0m\n\u001b[1;32m    273\u001b[0m \u001b[0;34m\u001b[0m\u001b[0m\n\u001b[1;32m    274\u001b[0m     \u001b[0;31m# parse the data to get plot data ( e.g. X Y coordinates, max depth, max width etc)\u001b[0m\u001b[0;34m\u001b[0m\u001b[0;34m\u001b[0m\u001b[0;34m\u001b[0m\u001b[0m\n\u001b[0;32m--> 275\u001b[0;31m     \u001b[0mplot_data\u001b[0m \u001b[0;34m=\u001b[0m \u001b[0mget_plot_data\u001b[0m\u001b[0;34m(\u001b[0m\u001b[0mnode_tuples\u001b[0m\u001b[0;34m)\u001b[0m\u001b[0;34m\u001b[0m\u001b[0;34m\u001b[0m\u001b[0m\n\u001b[0m\u001b[1;32m    276\u001b[0m \u001b[0;34m\u001b[0m\u001b[0m\n\u001b[1;32m    277\u001b[0m     \u001b[0;31m#normalize coordinates to make tree abit nicer now as we know the depth and widths\u001b[0m\u001b[0;34m\u001b[0m\u001b[0;34m\u001b[0m\u001b[0;34m\u001b[0m\u001b[0m\n",
      "\u001b[0;32m~/phd/hotviz/hotviz/hot_tree.py\u001b[0m in \u001b[0;36mget_plot_data\u001b[0;34m(items)\u001b[0m\n\u001b[1;32m    146\u001b[0m             \u001b[0mfound\u001b[0m \u001b[0;34m=\u001b[0m \u001b[0;32mTrue\u001b[0m\u001b[0;34m\u001b[0m\u001b[0;34m\u001b[0m\u001b[0m\n\u001b[1;32m    147\u001b[0m         \u001b[0;32melse\u001b[0m\u001b[0;34m:\u001b[0m\u001b[0;34m\u001b[0m\u001b[0;34m\u001b[0m\u001b[0m\n\u001b[0;32m--> 148\u001b[0;31m             \u001b[0mfound\u001b[0m \u001b[0;34m=\u001b[0m \u001b[0mplace_node\u001b[0m\u001b[0;34m(\u001b[0m\u001b[0mtrees\u001b[0m\u001b[0;34m,\u001b[0m \u001b[0mnode\u001b[0m\u001b[0;34m,\u001b[0m \u001b[0mlinked_node\u001b[0m\u001b[0;34m,\u001b[0m \u001b[0mlink_label\u001b[0m\u001b[0;34m,\u001b[0m \u001b[0mplot_data\u001b[0m\u001b[0;34m)\u001b[0m\u001b[0;34m\u001b[0m\u001b[0;34m\u001b[0m\u001b[0m\n\u001b[0m\u001b[1;32m    149\u001b[0m \u001b[0;34m\u001b[0m\u001b[0m\n\u001b[1;32m    150\u001b[0m \u001b[0;34m\u001b[0m\u001b[0m\n",
      "\u001b[0;31mKeyboardInterrupt\u001b[0m: "
     ]
    }
   ],
   "source": [
    "hot_tree(gold, colors=\"Plotly\")"
   ]
  },
  {
   "cell_type": "code",
   "execution_count": null,
   "metadata": {},
   "outputs": [],
   "source": []
  }
 ],
 "metadata": {
  "kernelspec": {
   "display_name": "Python 3.7.4 64-bit",
   "language": "python",
   "name": "python37464bitd7edeb293eeb4e85b182cddca402cc97"
  },
  "language_info": {
   "codemirror_mode": {
    "name": "ipython",
    "version": 3
   },
   "file_extension": ".py",
   "mimetype": "text/x-python",
   "name": "python",
   "nbconvert_exporter": "python",
   "pygments_lexer": "ipython3",
   "version": "3.7.4"
  }
 },
 "nbformat": 4,
 "nbformat_minor": 4
}
